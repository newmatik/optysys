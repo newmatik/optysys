{
 "cells": [
  {
   "cell_type": "code",
   "execution_count": null,
   "metadata": {},
   "outputs": [],
   "source": [
    "import warnings\n",
    "warnings.filterwarnings('ignore')\n",
    "import torch\n",
    "import pathlib\n",
    "import torchvision\n",
    "import torchvision.transforms.functional as F\n",
    "from PIL import Image\n",
    "import pandas as pd\n",
    "import numpy as np\n",
    "import torch\n",
    "from torchvision import transforms\n",
    "from torchvision.models.detection import retinanet_resnet50_fpn\n",
    "from torchvision.models.detection.retinanet import RetinaNet\n",
    "import torch\n",
    "from torchvision import models, transforms\n",
    "from PIL import Image, ImageDraw, ImageFont\n",
    "import matplotlib.pyplot as plt\n",
    "import time"
   ]
  },
  {
   "cell_type": "code",
   "execution_count": null,
   "metadata": {},
   "outputs": [],
   "source": [
    "import serial.tools.list_ports\n",
    "ports = serial.tools.list_ports.comports()\n",
    "\n",
    "for port, desc, hwid in sorted(ports):\n",
    "        print(\"{}: {} [{}]\".format(port, desc, hwid))"
   ]
  },
  {
   "cell_type": "code",
   "execution_count": null,
   "metadata": {},
   "outputs": [],
   "source": [
    "import numpy as np\n",
    "import matplotlib.pyplot as plt\n",
    "\n",
    "def map_decimal_to_integer(decimal_value):\n",
    "    # Scale the decimal value to the range 0 to 1\n",
    "    scaled_value = (decimal_value + 1) / 2.0\n",
    "\n",
    "    # Map the scaled value to the range 0 to 7\n",
    "    mapped_integer = int(scaled_value * 8)\n",
    "\n",
    "    # Ensure the mapped value stays within the range [0, 7]\n",
    "    mapped_integer = max(0, min(mapped_integer, 7))\n",
    "\n",
    "    return mapped_integer\n",
    "\n",
    "# Example usage:\n",
    "decimal_values = np.linspace(-1,1,1000)#[-1.0, -0.5, 0.0, 0.5, 1.0]\n",
    "mapped_value = []\n",
    "for value in decimal_values:\n",
    "    mapped_value.append(map_decimal_to_integer(value))\n",
    "    # print(f\"Decimal: {value}, Mapped Integer: {mapped_value}\")\n",
    "plt.plot(decimal_values, mapped_value)"
   ]
  },
  {
   "cell_type": "code",
   "execution_count": null,
   "metadata": {},
   "outputs": [],
   "source": [
    "import pandas as pd\n",
    "df = pd.read_csv('dataset/vishaka-pcbs_commented.csv')\n",
    "df\n",
    "# designation_counts = df['Designator'].value_counts()\n",
    "\n",
    "# # Plotting a histogram (bar plot) of the frequencies\n",
    "# plt.figure(figsize=(8, 6))\n",
    "# designation_counts.plot(kind='bar', color='skyblue')\n",
    "# plt.title('Frequency of Designations')\n",
    "# plt.xlabel('Designation')\n",
    "# plt.ylabel('Frequency')\n",
    "# plt.xticks(rotation=45)  # Rotates x-axis labels for better readability\n",
    "# plt.tight_layout()\n",
    "# plt.show()"
   ]
  }
 ],
 "metadata": {
  "kernelspec": {
   "display_name": ".venv",
   "language": "python",
   "name": "python3"
  },
  "language_info": {
   "codemirror_mode": {
    "name": "ipython",
    "version": 3
   },
   "file_extension": ".py",
   "mimetype": "text/x-python",
   "name": "python",
   "nbconvert_exporter": "python",
   "pygments_lexer": "ipython3",
   "version": "3.11.7"
  }
 },
 "nbformat": 4,
 "nbformat_minor": 2
}
